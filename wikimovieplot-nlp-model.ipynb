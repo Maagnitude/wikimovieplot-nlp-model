{
  "nbformat": 4,
  "nbformat_minor": 0,
  "metadata": {
    "colab": {
      "provenance": [],
      "authorship_tag": "ABX9TyOXRNcfpmq1bMn+g7Ohi54i",
      "include_colab_link": true
    },
    "kernelspec": {
      "name": "python3",
      "display_name": "Python 3"
    },
    "language_info": {
      "name": "python"
    }
  },
  "cells": [
    {
      "cell_type": "markdown",
      "metadata": {
        "id": "view-in-github",
        "colab_type": "text"
      },
      "source": [
        "<a href=\"https://colab.research.google.com/github/Maagnitude/wikimovieplot-nlp-model/blob/main/wikimovieplot-nlp-model.ipynb\" target=\"_parent\"><img src=\"https://colab.research.google.com/assets/colab-badge.svg\" alt=\"Open In Colab\"/></a>"
      ]
    },
    {
      "cell_type": "markdown",
      "source": [
        "# **3η Εργασία** στο μάθημα **Μηχανική Μάθηση και Εφαρμογές**\n",
        "\n",
        "# **Τμήμα Πληροφορικής και Τηλεματικής - Χαροκόπειο Πανεπιστήμιο**\n",
        "\n",
        "# **Καζάζης Γεώργιος - it214124**\n",
        "\n",
        "Στην παρούσα εργασία θα χρησιμοποιήσουμε μεθόδους επεξεργασίας φυσικής γλώσσας."
      ],
      "metadata": {
        "id": "C8kx-GPaYPi3"
      }
    },
    {
      "cell_type": "markdown",
      "source": [
        "## **Modules**\n",
        "Κάνουμε import τις απαραίτητες βιβλιοθήκες:\n",
        "* **pandas** και **numpy** για την διαχείριση των δεδομένων μας.\n",
        "* **re** για την επεξεργασία κειμένου (lowercase κτλ.)\n",
        "* **tensorflow**, και από αυτήν το **keras** καθώς και τα **layers**, **losses**, **preprocessing** για την ανάπτυξη Νευρωνικών Δικτύων, και την εκπαίδευση τους.\n",
        "* **TextVectorization** για να κάνουμε **vectorize** τα **Plot** και **Title** για την χρήση τους στην εκπαίδευση.\n",
        "* Τα **warnings** για να τα φιλτράρουμε, ώστε να μην εμφανίζονται "
      ],
      "metadata": {
        "id": "5S6lZwror07D"
      }
    },
    {
      "cell_type": "code",
      "source": [
        "import pandas as pd\n",
        "import numpy as np\n",
        "import re\n",
        "\n",
        "import tensorflow as tf\n",
        "from tensorflow import keras\n",
        "from keras import layers\n",
        "from keras import losses\n",
        "from keras import preprocessing\n",
        "from tensorflow.keras.layers.experimental.preprocessing import TextVectorization\n",
        "\n",
        "import warnings\n",
        "warnings.filterwarnings(action='ignore')"
      ],
      "metadata": {
        "id": "4P5qV3xhYshF"
      },
      "execution_count": 300,
      "outputs": []
    },
    {
      "cell_type": "markdown",
      "source": [
        "##**Dataset**\n",
        "Περνάμε το link από το **public github repo** μου, για το **dataset** μας, σε μορφή **csv**, το οποίο θα δώσουμε στην συνάρτηση για το φόρτωμα των δεδομένων μας."
      ],
      "metadata": {
        "id": "VoalJpu0avWb"
      }
    },
    {
      "cell_type": "code",
      "source": [
        "url = \"https://raw.githubusercontent.com/Maagnitude/wikimovieplot-nlp-model/main/dataset.csv\""
      ],
      "metadata": {
        "id": "CEruND9PauoA"
      },
      "execution_count": 299,
      "outputs": []
    },
    {
      "cell_type": "markdown",
      "source": [
        "## **Text preprocessing**\n",
        "Με αυτή την συνάρτηση θα επεξεργαστούμε τα Title και Plot, ώστε να έχουν όλα πεζά γράμματα, να μην έχουν ειδικούς χαρακτήρες και σημεία στίξης."
      ],
      "metadata": {
        "id": "flTnjrrhtn00"
      }
    },
    {
      "cell_type": "code",
      "source": [
        "def preprocess_text(text):\n",
        "    text = text.lower() # convert text to lowercase\n",
        "    text = re.sub(r'[^\\w\\s]', '', text) # remove punctuation\n",
        "    text = re.sub(r'\\s+', ' ', text)\n",
        "    return text"
      ],
      "metadata": {
        "id": "nt6skjaysvuh"
      },
      "execution_count": 301,
      "outputs": []
    },
    {
      "cell_type": "markdown",
      "source": [
        "## **Βασική συνάρτηση preprocessing**\n",
        "Εδώ υλοποιείται το μεγαλύτερο κομμάτι του notebook. \n",
        "\n",
        "Αρχικά φορτώνεται το dataset, ανακατεύονται οι γραμμές του με την sample, χωρίζεται σε train, validate και test set (έχοντας υπολογίσει τα ποσοστά του καθενός).\n",
        "\n",
        "Εν συνεχεία, γίνεται **One-hot encoding** στα features '**Origin/Ethnicity**' και '**Genre**' με την χρήση της **pd.get_dummies** (σε κάθε **set**), τα οποία περνιούνται με τα κατάλληλα **keys** στα **dictionaries** που δημιουργούμε στο επόμενο βήμα. Από το shape[1] ενός εκ των τριών genre_dummies, παίρνουμε τις 20 διαφορετικές τιμές του feature 'Genre' ώστε να το χρησιμοποιήσουμε αργότερα.\n",
        "\n",
        "Πριν περάσουμε τα '**Title**' και '**Plot**' στα **dictionaries**, τα περνάμε από την παραπάνω συνάρτηση επεξεργασίας κειμένου με την χρήση της **apply()**. \n",
        "\n",
        "Δημιουργούμε τα **dictionaries** και ύστερα τα περνάμε με την **from_tensor_slices()** (των **tf.data.Dataset**) στα Dataset object (**raw_train_ds**, **raw_val_ds**, **raw_test_ds**), και τέλος τα επιστρέφουμε. "
      ],
      "metadata": {
        "id": "TmjY6-Jut9JH"
      }
    },
    {
      "cell_type": "code",
      "source": [
        "def load_data_wiki(file_path, batch_size=32, p_train=0.65, p_val=0.15):\n",
        "    \n",
        "    df = pd.read_csv(url)\n",
        "    df = df.sample(frac=1, random_state=42)\n",
        "\n",
        "    n = df.shape[0]\n",
        "    n_train = int(n * p_train)\n",
        "    n_val = int(n * p_val)\n",
        "    n_test = n - n_train - n_val\n",
        "\n",
        "    df_train, df_val, df_test = df.iloc[:n_train], df.iloc[n_train:n_train+n_val],\\\n",
        "                                                          df.iloc[n_train+n_val:]\n",
        "\n",
        "    origin_dummies1 = pd.get_dummies(df_train['Origin/Ethnicity'])\n",
        "    genre_dummies1 = pd.get_dummies(df_train['Genre'])\n",
        "\n",
        "    origin_dummies2 = pd.get_dummies(df_val['Origin/Ethnicity'])\n",
        "    genre_dummies2 = pd.get_dummies(df_val['Genre'])\n",
        "\n",
        "    origin_dummies3 = pd.get_dummies(df_test['Origin/Ethnicity'])\n",
        "    genre_dummies3 = pd.get_dummies(df_test['Genre'])\n",
        "\n",
        "    n_labels = genre_dummies1.shape[1]\n",
        "\n",
        "    df['Title'] = df['Title'].apply(preprocess_text)\n",
        "    df['Plot'] = df['Plot'].apply(preprocess_text)  \n",
        "                                                            \n",
        "    train_data = {'Title': df_train['Title'].values,\n",
        "                  'Origin': origin_dummies1.values.astype(np.float64),\n",
        "                  'Plot': df_train['Plot'].values,\n",
        "                  'Genre': genre_dummies1.values.astype(np.float64)}\n",
        "\n",
        "    val_data = {'Title': df_val['Title'].values,\n",
        "                'Origin': origin_dummies2.values.astype(np.float64),\n",
        "                'Plot': df_val['Plot'].values,\n",
        "                'Genre': genre_dummies2.values.astype(np.float64)}            \n",
        "\n",
        "    test_data = {'Title': df_test['Title'].values,\n",
        "                 'Origin': origin_dummies3.values.astype(np.float64),\n",
        "                 'Plot': df_test['Plot'].values,\n",
        "                 'Genre': genre_dummies3.values.astype(np.float64)}\n",
        "\n",
        "    raw_train_ds = tf.data.Dataset.from_tensor_slices(train_data).batch(batch_size)\n",
        "    raw_val_ds = tf.data.Dataset.from_tensor_slices(val_data).batch(batch_size)\n",
        "    raw_test_ds = tf.data.Dataset.from_tensor_slices(test_data).batch(batch_size)\n",
        "\n",
        "    return raw_train_ds, raw_val_ds, raw_test_ds, n_labels"
      ],
      "metadata": {
        "id": "51196DXOH9PA"
      },
      "execution_count": 302,
      "outputs": []
    },
    {
      "cell_type": "code",
      "source": [
        "raw_train_ds, raw_val_ds, raw_test_ds, n_labels = load_data_wiki(url)"
      ],
      "metadata": {
        "id": "5DpaPDLAJzXM"
      },
      "execution_count": 335,
      "outputs": []
    },
    {
      "cell_type": "markdown",
      "source": [
        "## **Έλεγχος των δεδομένων**\n",
        "Εδώ θα τσεκάρουμε τον **αριθμό των διαφορετικών Genre**, καθώς και αν τα **Title**, **Genre**, **Origin** και **Plot**, της πρώτης ταινίας του πρώτου batch, έχουν περαστεί σωστά (**Title** και **Plot** επεξεργασμένα σωστά - **Origin** και **Genre** **one-hot encoded**)"
      ],
      "metadata": {
        "id": "8i3H0kTwwbTR"
      }
    },
    {
      "cell_type": "code",
      "source": [
        "n_labels"
      ],
      "metadata": {
        "colab": {
          "base_uri": "https://localhost:8080/"
        },
        "id": "hi5K3q1eKiv0",
        "outputId": "93c1db91-579a-4864-f761-571ed7e335dd"
      },
      "execution_count": 320,
      "outputs": [
        {
          "output_type": "execute_result",
          "data": {
            "text/plain": [
              "20"
            ]
          },
          "metadata": {},
          "execution_count": 320
        }
      ]
    },
    {
      "cell_type": "code",
      "source": [
        "for movie in raw_train_ds.take(1):\n",
        "  print('First movie, from the first batch:')\n",
        "  print('Title (lowercase etc.): ', movie['Title'][0].numpy())\n",
        "  print('Genre (One-hot): ', movie['Genre'][0].numpy())\n",
        "  print('Origin (One-hot): ', movie['Origin'][0].numpy())\n",
        "  print('Plot (lowercase etc.): ', movie['Plot'][0].numpy())\n"
      ],
      "metadata": {
        "id": "Hwv4KMBdMRie",
        "colab": {
          "base_uri": "https://localhost:8080/"
        },
        "outputId": "18cc7ada-0765-4b65-f1df-845d2d562740"
      },
      "execution_count": 321,
      "outputs": [
        {
          "output_type": "stream",
          "name": "stdout",
          "text": [
            "First movie, from the first batch:\n",
            "Title (lowercase etc.):  b'creature with the atom brain'\n",
            "Genre (One-hot):  [1. 0. 0. 0. 0. 0. 0. 0. 0. 0. 0. 0. 0. 0. 0. 0. 0. 0. 0. 0.]\n",
            "Origin (One-hot):  [1. 0. 0. 0. 0. 0. 0. 0. 0. 0. 0. 0. 0. 0. 0. 0. 0. 0. 0. 0. 0. 0. 0. 0.]\n",
            "Plot (lowercase etc.):  b'a hulking zombie breaks into a mansion and kills a gangster named hennesy the blood stains left behind at the crime scene are radioactive and the fingerprints of the killer are of a man who had died days before the murder the police are baffled gangster boss frank buchanan who had been forced to flee the united states before he was deported was betrayed by members of his own underworld gang while traveling in europe he finds exnazi scientist wilhelm steigg gaye who is trying to reanimate the dead in order to provide a menial labor pool that is easily exploited buchanan funds the research and brings the scientist to america with the unstated goal of sending steiggs zombies out to murder those who ousted him one by one they are killed in the same fashion the police eventually discover the common connection between the murdered gang members and buchanan they try to put the remaining three into protective custody but buchanan uses a reanimated dead cop to kill one of them and a reanimated dead police captain to kill the remaining two when the zombie captain is captured police doctor dr chet walker denning discovers an atomicpowered remote control brain implant and deduces what has been going on police and army troops converge on buchanans leadlined mansion and he sends out his unkillable zombies to battle them walker however is able to get into the mansion and smash the atomicpowered equipment that controls the zombies after doing so they all collapse buchanan is about to shoot walker but the stillanimated zombie police captain now under walkers control grabs and strangles buchanan before he can fire a shot'\n"
          ]
        }
      ]
    },
    {
      "cell_type": "markdown",
      "source": [
        "## **Πρώτο Vectorization**\n",
        "Εδώ θα υλοποιήσουμε μία διαδικασία η οποία κάνει vectorize τα **Title** και **Plot**, ώστε να δημιουργηθεί μια δυαδική αναπαράσταση των λέξεων (**bag of words**) με λεξιλόγιο (αριθμό λέξεων) που θα ορίσουμε εμείς.\n",
        "\n",
        "* Το πρώτο λεξιλόγιο θα έχει **500 λέξεις** (**max_features**). \n",
        "* Το **output** θα είναι **binary** (1 αν υπάρχει η λέξη, 0 αν δεν υπάρχει)\n",
        "* Με το **pad_to_max_tokens**, βάζοντας το **True**, του λέμε να συμπληρώσει με **μηδενικά** έως ότου οι λέξεις να είναι όσο το **max_features** που θα του δώσουμε."
      ],
      "metadata": {
        "id": "eJfZZrNYyage"
      }
    },
    {
      "cell_type": "code",
      "source": [
        "max_features = 500\n",
        "\n",
        "vectorize_layer = TextVectorization(\n",
        "    max_tokens=max_features,\n",
        "    output_mode='binary',\n",
        "    pad_to_max_tokens=True)"
      ],
      "metadata": {
        "id": "abj6ztx1rQJS"
      },
      "execution_count": 366,
      "outputs": []
    },
    {
      "cell_type": "code",
      "source": [
        "def vectorize_text(text):\n",
        "  return vectorize_layer(tf.expand_dims(text, -1))"
      ],
      "metadata": {
        "id": "a2BNLFC-Z_EW"
      },
      "execution_count": 367,
      "outputs": []
    },
    {
      "cell_type": "markdown",
      "source": [
        "# **Χρήση του Title**\n",
        "Για αρχή χρησιμοποιούμε μόνο το **title** ως είσοδο (χωρίς το Plot), και το δίνουμε όπως και το κάνουμε **adapt** στο **vectorize_layer**, ώστε παρακάτω να γίνει **vectorized** πριν δωθεί στα τελικά sets."
      ],
      "metadata": {
        "id": "IPiHGP6JzqgU"
      }
    },
    {
      "cell_type": "code",
      "source": [
        "def final_sets(raw_train_ds, raw_val_ds, raw_test_ds):\n",
        "    train_titles = raw_train_ds.map(lambda x: x['Title'])\n",
        "    vectorize_layer.adapt(train_titles)\n",
        "    val_titles = raw_val_ds.map(lambda x: x['Title'])\n",
        "    vectorize_layer.adapt(val_titles)\n",
        "    test_titles = raw_test_ds.map(lambda x: x['Title'])\n",
        "    vectorize_layer.adapt(test_titles)\n",
        "\n",
        "    train_ds = raw_train_ds.map(lambda x: (vectorize_text(x['Title']), x['Genre']))\n",
        "    val_ds = raw_val_ds.map(lambda x: (vectorize_text(x['Title']), x['Genre']))\n",
        "    test_ds = raw_test_ds.map(lambda x: (vectorize_text(x['Title']), x['Genre']))\n",
        "\n",
        "    return train_ds, val_ds, test_ds"
      ],
      "metadata": {
        "id": "CnGLTietZ44c"
      },
      "execution_count": 368,
      "outputs": []
    },
    {
      "cell_type": "code",
      "source": [
        "train_ds, val_ds, test_ds = final_sets(raw_train_ds, raw_val_ds, raw_test_ds)"
      ],
      "metadata": {
        "id": "t56Y9SeVeYZf"
      },
      "execution_count": 369,
      "outputs": []
    },
    {
      "cell_type": "markdown",
      "source": [
        "## **Πρώτο μοντέλο** \n",
        "Γίνεται η εκπαίδευση του πρώτου μοντέλου με χρήση μόνο του **Title**, για την πρόβλεψη του **Genre**.\n",
        "\n",
        "**10020 παράμετροι** - **Είσοδος = 500**,  **Έξοδος = 20**"
      ],
      "metadata": {
        "id": "phcAspLw3MIv"
      }
    },
    {
      "cell_type": "code",
      "source": [
        "model = tf.keras.Sequential([layers.Dense(20, activation='sigmoid', input_shape=(max_features,))])\n",
        "model.summary()"
      ],
      "metadata": {
        "colab": {
          "base_uri": "https://localhost:8080/"
        },
        "id": "QojWc9OIYnbr",
        "outputId": "4d47e0fa-b4ca-46af-e394-0129885167b0"
      },
      "execution_count": 370,
      "outputs": [
        {
          "output_type": "stream",
          "name": "stdout",
          "text": [
            "Model: \"sequential_29\"\n",
            "_________________________________________________________________\n",
            " Layer (type)                Output Shape              Param #   \n",
            "=================================================================\n",
            " dense_29 (Dense)            (None, 20)                10020     \n",
            "                                                                 \n",
            "=================================================================\n",
            "Total params: 10,020\n",
            "Trainable params: 10,020\n",
            "Non-trainable params: 0\n",
            "_________________________________________________________________\n"
          ]
        }
      ]
    },
    {
      "cell_type": "markdown",
      "source": [
        "## **Αποτελέσματα**\n",
        "Χρησιμοποιήθηκε ως **optimizer** η μέθοδος **Adam**, με **learning rate** **0.001**, και **default** οι υπόλοιπες παράμετροι.\n",
        "\n",
        "Στις 10 εποχές είχαμε **Accuracy: 0.303**, και **Loss: 0.161**\n",
        "\n",
        "Στις 20 εποχές είχαμε **Accuracy: 0.316**, και **Loss: 0.158**\n",
        "\n",
        "**Δεν δοκιμάστηκε** σε παραπάνω εποχές μιας και θα το ξανατρέξουμε για **λεξιλόγιο 10000 λέξεων** ώστε να δούμε αν υπάρχει κάποια διαφορά. "
      ],
      "metadata": {
        "id": "pjiBU_6a3pEP"
      }
    },
    {
      "cell_type": "code",
      "source": [
        "model.compile(loss=losses.BinaryCrossentropy(),\n",
        "              optimizer=tf.keras.optimizers.Adam(0.001),\n",
        "              metrics=['accuracy'])\n",
        "epochs = 20\n",
        "history = model.fit(\n",
        "    train_ds,\n",
        "    validation_data=val_ds,\n",
        "    epochs=epochs)\n",
        "\n",
        "loss, accuracy = model.evaluate(test_ds)\n",
        "\n",
        "print(\"Loss: \", loss)\n",
        "print(\"Accuracy: \", accuracy)"
      ],
      "metadata": {
        "colab": {
          "base_uri": "https://localhost:8080/"
        },
        "id": "2byKIQvmYqnT",
        "outputId": "1e9ddd15-a168-41ca-ccdf-6c7878234131"
      },
      "execution_count": 371,
      "outputs": [
        {
          "output_type": "stream",
          "name": "stdout",
          "text": [
            "Epoch 1/20\n",
            "468/468 [==============================] - 4s 4ms/step - loss: 0.5053 - accuracy: 0.1596 - val_loss: 0.3737 - val_accuracy: 0.2728\n",
            "Epoch 2/20\n",
            "468/468 [==============================] - 2s 4ms/step - loss: 0.3065 - accuracy: 0.2937 - val_loss: 0.2614 - val_accuracy: 0.2757\n",
            "Epoch 3/20\n",
            "468/468 [==============================] - 3s 6ms/step - loss: 0.2326 - accuracy: 0.2919 - val_loss: 0.2144 - val_accuracy: 0.2751\n",
            "Epoch 4/20\n",
            "468/468 [==============================] - 2s 4ms/step - loss: 0.1992 - accuracy: 0.2955 - val_loss: 0.1914 - val_accuracy: 0.2789\n",
            "Epoch 5/20\n",
            "468/468 [==============================] - 2s 3ms/step - loss: 0.1817 - accuracy: 0.3036 - val_loss: 0.1788 - val_accuracy: 0.2847\n",
            "Epoch 6/20\n",
            "468/468 [==============================] - 2s 4ms/step - loss: 0.1718 - accuracy: 0.3094 - val_loss: 0.1715 - val_accuracy: 0.2902\n",
            "Epoch 7/20\n",
            "468/468 [==============================] - 3s 6ms/step - loss: 0.1657 - accuracy: 0.3146 - val_loss: 0.1671 - val_accuracy: 0.2939\n",
            "Epoch 8/20\n",
            "468/468 [==============================] - 2s 4ms/step - loss: 0.1618 - accuracy: 0.3209 - val_loss: 0.1644 - val_accuracy: 0.2957\n",
            "Epoch 9/20\n",
            "468/468 [==============================] - 2s 4ms/step - loss: 0.1591 - accuracy: 0.3257 - val_loss: 0.1626 - val_accuracy: 0.2968\n",
            "Epoch 10/20\n",
            "468/468 [==============================] - 2s 3ms/step - loss: 0.1572 - accuracy: 0.3297 - val_loss: 0.1614 - val_accuracy: 0.2968\n",
            "Epoch 11/20\n",
            "468/468 [==============================] - 2s 4ms/step - loss: 0.1557 - accuracy: 0.3320 - val_loss: 0.1605 - val_accuracy: 0.2983\n",
            "Epoch 12/20\n",
            "468/468 [==============================] - 2s 5ms/step - loss: 0.1546 - accuracy: 0.3344 - val_loss: 0.1599 - val_accuracy: 0.3000\n",
            "Epoch 13/20\n",
            "468/468 [==============================] - 2s 4ms/step - loss: 0.1536 - accuracy: 0.3362 - val_loss: 0.1594 - val_accuracy: 0.3006\n",
            "Epoch 14/20\n",
            "468/468 [==============================] - 2s 4ms/step - loss: 0.1527 - accuracy: 0.3375 - val_loss: 0.1591 - val_accuracy: 0.3003\n",
            "Epoch 15/20\n",
            "468/468 [==============================] - 2s 4ms/step - loss: 0.1519 - accuracy: 0.3396 - val_loss: 0.1588 - val_accuracy: 0.3023\n",
            "Epoch 16/20\n",
            "468/468 [==============================] - 3s 7ms/step - loss: 0.1512 - accuracy: 0.3398 - val_loss: 0.1585 - val_accuracy: 0.3015\n",
            "Epoch 17/20\n",
            "468/468 [==============================] - 2s 3ms/step - loss: 0.1505 - accuracy: 0.3406 - val_loss: 0.1584 - val_accuracy: 0.3021\n",
            "Epoch 18/20\n",
            "468/468 [==============================] - 3s 6ms/step - loss: 0.1499 - accuracy: 0.3424 - val_loss: 0.1582 - val_accuracy: 0.3032\n",
            "Epoch 19/20\n",
            "468/468 [==============================] - 2s 4ms/step - loss: 0.1493 - accuracy: 0.3437 - val_loss: 0.1581 - val_accuracy: 0.3035\n",
            "Epoch 20/20\n",
            "468/468 [==============================] - 2s 4ms/step - loss: 0.1487 - accuracy: 0.3444 - val_loss: 0.1581 - val_accuracy: 0.3035\n",
            "144/144 [==============================] - 0s 2ms/step - loss: 0.1569 - accuracy: 0.3142\n",
            "Loss:  0.15691444277763367\n",
            "Accuracy:  0.3141554594039917\n"
          ]
        }
      ]
    },
    {
      "cell_type": "markdown",
      "source": [
        "## **Λεξιλόγιο 10000 λέξεων**\n",
        "Αυξάνουμε τις λέξεις στο **bag of words**, και ξαναδημιουργούμε τα **sets**. Ύστερα εκπαιδεύουμε πάλι το μοντέλο μας και το τρέχουμε με τις **ίδιες παραμέτρους** για **20 εποχές**, για να το συγκρίνουμε με το **πρώτο**.\n",
        "\n",
        "Πλέον, έχουμε **200020 παραμέτρους**, **Είσοδο=10000**, **Έξοδο=20**."
      ],
      "metadata": {
        "id": "uZDFhmPs7CCN"
      }
    },
    {
      "cell_type": "code",
      "source": [
        "max_features = 10000\n",
        "vectorize_layer = TextVectorization(\n",
        "    max_tokens=max_features,\n",
        "    output_mode='binary',\n",
        "    pad_to_max_tokens=True)\n",
        "\n",
        "train_ds, val_ds, test_ds = final_sets(raw_train_ds, raw_val_ds, raw_test_ds)"
      ],
      "metadata": {
        "id": "ztD-Clyc4_GZ"
      },
      "execution_count": 375,
      "outputs": []
    },
    {
      "cell_type": "code",
      "source": [
        "model = tf.keras.Sequential([layers.Dense(20, activation='sigmoid', input_shape=(max_features,))])\n",
        "model.summary()"
      ],
      "metadata": {
        "id": "cVY_j5ip6lCt",
        "outputId": "acac6b74-9b3a-469a-b516-84e7af26fc73",
        "colab": {
          "base_uri": "https://localhost:8080/"
        }
      },
      "execution_count": 376,
      "outputs": [
        {
          "output_type": "stream",
          "name": "stdout",
          "text": [
            "Model: \"sequential_31\"\n",
            "_________________________________________________________________\n",
            " Layer (type)                Output Shape              Param #   \n",
            "=================================================================\n",
            " dense_31 (Dense)            (None, 20)                200020    \n",
            "                                                                 \n",
            "=================================================================\n",
            "Total params: 200,020\n",
            "Trainable params: 200,020\n",
            "Non-trainable params: 0\n",
            "_________________________________________________________________\n"
          ]
        }
      ]
    },
    {
      "cell_type": "markdown",
      "source": [
        "## **Αποτελέσματα 2**\n",
        "Στις **20 εποχές** έχουμε **Accuracy: 0.355** και **Loss: 0.159**.\n",
        "\n",
        "\n",
        "**Απάντηση στην ερώτηση**:\n",
        "\n",
        "Τα έχει πάει σίγουρα καλύτερα από το πρώτο, αλλά μεγάλη διαφορά δεν υπάρχει παρ' όλο που αυξήθηκαν οι λέξεις στο λεξιλόγιο, κι αυτό οφείλεται, κατά πάσα πιθανότητα, στο ότι με τον τίτλο μόνο, το μοντέλο δεν μπορεί να πάρει τις απαραίτητες πληροφορίες στην εκπαίδευση του. "
      ],
      "metadata": {
        "id": "d3Oq2R_E724W"
      }
    },
    {
      "cell_type": "code",
      "source": [
        "model.compile(loss=losses.BinaryCrossentropy(),\n",
        "              optimizer=tf.keras.optimizers.Adam(0.001),\n",
        "              metrics=['accuracy'])\n",
        "epochs = 20\n",
        "history = model.fit(\n",
        "    train_ds,\n",
        "    validation_data=val_ds,\n",
        "    epochs=epochs)\n",
        "\n",
        "loss, accuracy = model.evaluate(test_ds)\n",
        "\n",
        "print(\"Loss: \", loss)\n",
        "print(\"Accuracy: \", accuracy)"
      ],
      "metadata": {
        "id": "BGTTFDYQ6pKP",
        "outputId": "fe844b1b-1160-4cf2-c3e2-2abb1a96347d",
        "colab": {
          "base_uri": "https://localhost:8080/"
        }
      },
      "execution_count": 377,
      "outputs": [
        {
          "output_type": "stream",
          "name": "stdout",
          "text": [
            "Epoch 1/20\n",
            "468/468 [==============================] - 5s 9ms/step - loss: 0.5180 - accuracy: 0.2409 - val_loss: 0.3915 - val_accuracy: 0.2925\n",
            "Epoch 2/20\n",
            "468/468 [==============================] - 4s 9ms/step - loss: 0.3250 - accuracy: 0.3160 - val_loss: 0.2779 - val_accuracy: 0.2896\n",
            "Epoch 3/20\n",
            "468/468 [==============================] - 4s 8ms/step - loss: 0.2472 - accuracy: 0.3210 - val_loss: 0.2274 - val_accuracy: 0.2948\n",
            "Epoch 4/20\n",
            "468/468 [==============================] - 4s 9ms/step - loss: 0.2095 - accuracy: 0.3326 - val_loss: 0.2011 - val_accuracy: 0.3035\n",
            "Epoch 5/20\n",
            "468/468 [==============================] - 5s 10ms/step - loss: 0.1885 - accuracy: 0.3472 - val_loss: 0.1860 - val_accuracy: 0.3136\n",
            "Epoch 6/20\n",
            "468/468 [==============================] - 4s 9ms/step - loss: 0.1755 - accuracy: 0.3582 - val_loss: 0.1767 - val_accuracy: 0.3186\n",
            "Epoch 7/20\n",
            "468/468 [==============================] - 4s 8ms/step - loss: 0.1669 - accuracy: 0.3700 - val_loss: 0.1707 - val_accuracy: 0.3229\n",
            "Epoch 8/20\n",
            "468/468 [==============================] - 5s 10ms/step - loss: 0.1609 - accuracy: 0.3811 - val_loss: 0.1667 - val_accuracy: 0.3203\n",
            "Epoch 9/20\n",
            "468/468 [==============================] - 4s 9ms/step - loss: 0.1564 - accuracy: 0.3891 - val_loss: 0.1638 - val_accuracy: 0.3258\n",
            "Epoch 10/20\n",
            "468/468 [==============================] - 6s 13ms/step - loss: 0.1530 - accuracy: 0.3956 - val_loss: 0.1618 - val_accuracy: 0.3310\n",
            "Epoch 11/20\n",
            "468/468 [==============================] - 5s 11ms/step - loss: 0.1502 - accuracy: 0.4028 - val_loss: 0.1603 - val_accuracy: 0.3307\n",
            "Epoch 12/20\n",
            "468/468 [==============================] - 5s 11ms/step - loss: 0.1478 - accuracy: 0.4085 - val_loss: 0.1591 - val_accuracy: 0.3316\n",
            "Epoch 13/20\n",
            "468/468 [==============================] - 5s 12ms/step - loss: 0.1458 - accuracy: 0.4146 - val_loss: 0.1582 - val_accuracy: 0.3316\n",
            "Epoch 14/20\n",
            "468/468 [==============================] - 5s 10ms/step - loss: 0.1439 - accuracy: 0.4188 - val_loss: 0.1574 - val_accuracy: 0.3333\n",
            "Epoch 15/20\n",
            "468/468 [==============================] - 5s 10ms/step - loss: 0.1422 - accuracy: 0.4243 - val_loss: 0.1568 - val_accuracy: 0.3342\n",
            "Epoch 16/20\n",
            "468/468 [==============================] - 4s 9ms/step - loss: 0.1406 - accuracy: 0.4291 - val_loss: 0.1563 - val_accuracy: 0.3357\n",
            "Epoch 17/20\n",
            "468/468 [==============================] - 5s 12ms/step - loss: 0.1391 - accuracy: 0.4333 - val_loss: 0.1559 - val_accuracy: 0.3354\n",
            "Epoch 18/20\n",
            "468/468 [==============================] - 5s 10ms/step - loss: 0.1377 - accuracy: 0.4365 - val_loss: 0.1556 - val_accuracy: 0.3368\n",
            "Epoch 19/20\n",
            "468/468 [==============================] - 6s 12ms/step - loss: 0.1364 - accuracy: 0.4396 - val_loss: 0.1553 - val_accuracy: 0.3385\n",
            "Epoch 20/20\n",
            "468/468 [==============================] - 6s 12ms/step - loss: 0.1351 - accuracy: 0.4438 - val_loss: 0.1551 - val_accuracy: 0.3397\n",
            "144/144 [==============================] - 1s 6ms/step - loss: 0.1594 - accuracy: 0.3554\n",
            "Loss:  0.15940672159194946\n",
            "Accuracy:  0.3554059863090515\n"
          ]
        }
      ]
    },
    {
      "cell_type": "markdown",
      "source": [
        "# **Χρήση του Plot**\n",
        "Τώρα με την χρήση της συνάρτησης **final_sets_plot**, θα δημιουργήσουμε νέα sets τα οποία θα έχουν μόνο το **Plot**, ώστε να δοκιμάσουμε να εκπαιδεύσουμε ένα μοντέλο με τα **σενάρια των ταινιών** και να ελέγξουμε τα αποτελέσματα του."
      ],
      "metadata": {
        "id": "-A946HbZ9Xxi"
      }
    },
    {
      "cell_type": "code",
      "source": [
        "def final_sets_plot(raw_train_ds, raw_val_ds, raw_test_ds):\n",
        "    train_titles = raw_train_ds.map(lambda x: x['Plot'])\n",
        "    vectorize_layer.adapt(train_titles)\n",
        "    val_titles = raw_val_ds.map(lambda x: x['Plot'])\n",
        "    vectorize_layer.adapt(val_titles)\n",
        "    test_titles = raw_test_ds.map(lambda x: x['Plot'])\n",
        "    vectorize_layer.adapt(test_titles)\n",
        "\n",
        "    train_ds = raw_train_ds.map(lambda x: (vectorize_text(x['Plot']), x['Genre']))\n",
        "    val_ds = raw_val_ds.map(lambda x: (vectorize_text(x['Plot']), x['Genre']))\n",
        "    test_ds = raw_test_ds.map(lambda x: (vectorize_text(x['Plot']), x['Genre']))\n",
        "\n",
        "    return train_ds, val_ds, test_ds"
      ],
      "metadata": {
        "id": "IDMWYUT08yLL"
      },
      "execution_count": 378,
      "outputs": []
    },
    {
      "cell_type": "markdown",
      "source": [
        "Θα χρησιμοποιήσουμε ένα **λεξιλόγιο 1000 λέξεων**, και όλες τις υπόλοιπες παραμέτρους ίδιες."
      ],
      "metadata": {
        "id": "ts_BTD7G9sx7"
      }
    },
    {
      "cell_type": "code",
      "source": [
        "max_features = 1000\n",
        "vectorize_layer = TextVectorization(\n",
        "    max_tokens=max_features,\n",
        "    output_mode='binary',\n",
        "    pad_to_max_tokens=True)\n",
        "\n",
        "train_ds, val_ds, test_ds = final_sets_plot(raw_train_ds, raw_val_ds, raw_test_ds)"
      ],
      "metadata": {
        "id": "G_G5Azwh8_4E"
      },
      "execution_count": 379,
      "outputs": []
    },
    {
      "cell_type": "markdown",
      "source": [
        "**Παράμετροι=20020**, **Είσοδος=1000**, **Έξοδος=20**"
      ],
      "metadata": {
        "id": "MVoWKO3K-BOb"
      }
    },
    {
      "cell_type": "code",
      "source": [
        "model = tf.keras.Sequential([layers.Dense(20, activation='sigmoid', input_shape=(max_features,))])\n",
        "model.summary()"
      ],
      "metadata": {
        "id": "o_TXOvmh9F1-",
        "outputId": "b95a581a-258a-4e86-8328-677651ca8c6f",
        "colab": {
          "base_uri": "https://localhost:8080/"
        }
      },
      "execution_count": 380,
      "outputs": [
        {
          "output_type": "stream",
          "name": "stdout",
          "text": [
            "Model: \"sequential_32\"\n",
            "_________________________________________________________________\n",
            " Layer (type)                Output Shape              Param #   \n",
            "=================================================================\n",
            " dense_32 (Dense)            (None, 20)                20020     \n",
            "                                                                 \n",
            "=================================================================\n",
            "Total params: 20,020\n",
            "Trainable params: 20,020\n",
            "Non-trainable params: 0\n",
            "_________________________________________________________________\n"
          ]
        }
      ]
    },
    {
      "cell_type": "markdown",
      "source": [
        "## **Αποτελέσματα 3**\n",
        "Έχουμε **καθαρή βελτίωση** από τα προηγούμενα, μιας και πλέον έχει ως είσοδο τα **σενάρια** των ταινιών από τα οποία μπορεί να αντλήσει σαφώς περισσότερες πληροφορίες, κι έτσι με **λεξιλόγιο 1000 λέξεων** τα πήγε πολύ καλύτερα από ότι τα είχε πάει το μοντέλο που εκπαιδεύτηκε στους **τίτλους** των ταινιών με **λεξιλόγιο 10000 λέξεων**.\n",
        "\n",
        "**Accuracy: 0.454**, **Loss: 0.139**\n",
        "\n",
        "Παρατηρούμε όμως ότι μετά την **7η εποχή** το **val_loss** μόνο αυξάνεται και γενικά ενώ το μοντέλο πετυχαίνει **accuracy** στο train set τιμές υψηλότερες του **0.57**, δεν γενικεύει αποτελεσματικό, περίπτωση **υπερεκπαίδευσης**. Θα γίνει μία δοκιμή και στις **10 εποχές**."
      ],
      "metadata": {
        "id": "fM3wcUhy-KfA"
      }
    },
    {
      "cell_type": "code",
      "source": [
        "model.compile(loss=losses.BinaryCrossentropy(),\n",
        "              optimizer=tf.keras.optimizers.Adam(0.001),\n",
        "              metrics=['accuracy'])\n",
        "epochs = 20\n",
        "history = model.fit(\n",
        "    train_ds,\n",
        "    validation_data=val_ds,\n",
        "    epochs=epochs)\n",
        "\n",
        "loss, accuracy = model.evaluate(test_ds)\n",
        "\n",
        "print(\"Loss: \", loss)\n",
        "print(\"Accuracy: \", accuracy)"
      ],
      "metadata": {
        "id": "4Y8aqqA-9Jkc",
        "outputId": "a5b0a542-e3e6-4acc-cca3-d74514de6dd5",
        "colab": {
          "base_uri": "https://localhost:8080/"
        }
      },
      "execution_count": 381,
      "outputs": [
        {
          "output_type": "stream",
          "name": "stdout",
          "text": [
            "Epoch 1/20\n",
            "468/468 [==============================] - 3s 6ms/step - loss: 0.2020 - accuracy: 0.3591 - val_loss: 0.1631 - val_accuracy: 0.4217\n",
            "Epoch 2/20\n",
            "468/468 [==============================] - 4s 9ms/step - loss: 0.1463 - accuracy: 0.4523 - val_loss: 0.1432 - val_accuracy: 0.4431\n",
            "Epoch 3/20\n",
            "468/468 [==============================] - 3s 5ms/step - loss: 0.1302 - accuracy: 0.4830 - val_loss: 0.1367 - val_accuracy: 0.4553\n",
            "Epoch 4/20\n",
            "468/468 [==============================] - 3s 6ms/step - loss: 0.1221 - accuracy: 0.5022 - val_loss: 0.1342 - val_accuracy: 0.4608\n",
            "Epoch 5/20\n",
            "468/468 [==============================] - 3s 6ms/step - loss: 0.1168 - accuracy: 0.5181 - val_loss: 0.1332 - val_accuracy: 0.4616\n",
            "Epoch 6/20\n",
            "468/468 [==============================] - 3s 5ms/step - loss: 0.1130 - accuracy: 0.5350 - val_loss: 0.1329 - val_accuracy: 0.4625\n",
            "Epoch 7/20\n",
            "468/468 [==============================] - 4s 9ms/step - loss: 0.1099 - accuracy: 0.5466 - val_loss: 0.1330 - val_accuracy: 0.4610\n",
            "Epoch 8/20\n",
            "468/468 [==============================] - 3s 6ms/step - loss: 0.1075 - accuracy: 0.5543 - val_loss: 0.1335 - val_accuracy: 0.4576\n",
            "Epoch 9/20\n",
            "468/468 [==============================] - 3s 6ms/step - loss: 0.1054 - accuracy: 0.5629 - val_loss: 0.1341 - val_accuracy: 0.4587\n",
            "Epoch 10/20\n",
            "468/468 [==============================] - 3s 7ms/step - loss: 0.1037 - accuracy: 0.5701 - val_loss: 0.1348 - val_accuracy: 0.4561\n",
            "Epoch 11/20\n",
            "468/468 [==============================] - 3s 7ms/step - loss: 0.1022 - accuracy: 0.5782 - val_loss: 0.1356 - val_accuracy: 0.4544\n",
            "Epoch 12/20\n",
            "468/468 [==============================] - 5s 11ms/step - loss: 0.1009 - accuracy: 0.5833 - val_loss: 0.1365 - val_accuracy: 0.4515\n",
            "Epoch 13/20\n",
            "468/468 [==============================] - 3s 7ms/step - loss: 0.0997 - accuracy: 0.5893 - val_loss: 0.1374 - val_accuracy: 0.4500\n",
            "Epoch 14/20\n",
            "468/468 [==============================] - 4s 9ms/step - loss: 0.0987 - accuracy: 0.5943 - val_loss: 0.1384 - val_accuracy: 0.4498\n",
            "Epoch 15/20\n",
            "468/468 [==============================] - 3s 6ms/step - loss: 0.0978 - accuracy: 0.5996 - val_loss: 0.1394 - val_accuracy: 0.4466\n",
            "Epoch 16/20\n",
            "468/468 [==============================] - 3s 6ms/step - loss: 0.0970 - accuracy: 0.6022 - val_loss: 0.1403 - val_accuracy: 0.4469\n",
            "Epoch 17/20\n",
            "468/468 [==============================] - 5s 10ms/step - loss: 0.0962 - accuracy: 0.6062 - val_loss: 0.1413 - val_accuracy: 0.4466\n",
            "Epoch 18/20\n",
            "468/468 [==============================] - 3s 6ms/step - loss: 0.0956 - accuracy: 0.6089 - val_loss: 0.1423 - val_accuracy: 0.4454\n",
            "Epoch 19/20\n",
            "468/468 [==============================] - 3s 6ms/step - loss: 0.0949 - accuracy: 0.6125 - val_loss: 0.1432 - val_accuracy: 0.4434\n",
            "Epoch 20/20\n",
            "468/468 [==============================] - 4s 9ms/step - loss: 0.0943 - accuracy: 0.6146 - val_loss: 0.1442 - val_accuracy: 0.4416\n",
            "144/144 [==============================] - 1s 4ms/step - loss: 0.1399 - accuracy: 0.4546\n",
            "Loss:  0.13988958299160004\n",
            "Accuracy:  0.4546244144439697\n"
          ]
        }
      ]
    },
    {
      "cell_type": "markdown",
      "source": [
        "## **Εκπαίδευση με 10 εποχές για αποφυγή υπερεκπαίδευσης**\n",
        "Πράγματι έχουμε **Accuracy: 0.463**, και **Loss: 0.131**. Υπάρχει μικρή βελτίωση, όχι αξιοσημείωτη."
      ],
      "metadata": {
        "id": "KNoZ_kSLBH8B"
      }
    },
    {
      "cell_type": "code",
      "source": [
        "max_features = 1000\n",
        "vectorize_layer = TextVectorization(\n",
        "    max_tokens=max_features,\n",
        "    output_mode='binary',\n",
        "    pad_to_max_tokens=True)\n",
        "\n",
        "train_ds, val_ds, test_ds = final_sets_plot(raw_train_ds, raw_val_ds, raw_test_ds)"
      ],
      "metadata": {
        "id": "VY_dfN5bBViE"
      },
      "execution_count": 385,
      "outputs": []
    },
    {
      "cell_type": "code",
      "source": [
        "model = tf.keras.Sequential([layers.Dense(20, activation='sigmoid', input_shape=(max_features,))])\n",
        "model.summary()\n",
        "model.compile(loss=losses.BinaryCrossentropy(),\n",
        "              optimizer=tf.keras.optimizers.Adam(0.001),\n",
        "              metrics=['accuracy'])\n",
        "epochs = 10\n",
        "history = model.fit(\n",
        "    train_ds,\n",
        "    validation_data=val_ds,\n",
        "    epochs=epochs)\n",
        "\n",
        "loss, accuracy = model.evaluate(test_ds)\n",
        "\n",
        "print(\"Loss: \", loss)\n",
        "print(\"Accuracy: \", accuracy)"
      ],
      "metadata": {
        "id": "JZOlOLbkBE8N",
        "outputId": "4c3bdccb-dcfa-4377-cfef-932b4546ea2d",
        "colab": {
          "base_uri": "https://localhost:8080/"
        }
      },
      "execution_count": 387,
      "outputs": [
        {
          "output_type": "stream",
          "name": "stdout",
          "text": [
            "Model: \"sequential_34\"\n",
            "_________________________________________________________________\n",
            " Layer (type)                Output Shape              Param #   \n",
            "=================================================================\n",
            " dense_34 (Dense)            (None, 20)                20020     \n",
            "                                                                 \n",
            "=================================================================\n",
            "Total params: 20,020\n",
            "Trainable params: 20,020\n",
            "Non-trainable params: 0\n",
            "_________________________________________________________________\n",
            "Epoch 1/10\n",
            "468/468 [==============================] - 3s 6ms/step - loss: 0.2039 - accuracy: 0.3495 - val_loss: 0.1635 - val_accuracy: 0.4196\n",
            "Epoch 2/10\n",
            "468/468 [==============================] - 3s 7ms/step - loss: 0.1466 - accuracy: 0.4502 - val_loss: 0.1437 - val_accuracy: 0.4451\n",
            "Epoch 3/10\n",
            "468/468 [==============================] - 2s 5ms/step - loss: 0.1304 - accuracy: 0.4828 - val_loss: 0.1370 - val_accuracy: 0.4532\n",
            "Epoch 4/10\n",
            "468/468 [==============================] - 2s 5ms/step - loss: 0.1222 - accuracy: 0.5027 - val_loss: 0.1343 - val_accuracy: 0.4584\n",
            "Epoch 5/10\n",
            "468/468 [==============================] - 3s 6ms/step - loss: 0.1169 - accuracy: 0.5214 - val_loss: 0.1332 - val_accuracy: 0.4596\n",
            "Epoch 6/10\n",
            "468/468 [==============================] - 4s 9ms/step - loss: 0.1130 - accuracy: 0.5349 - val_loss: 0.1329 - val_accuracy: 0.4593\n",
            "Epoch 7/10\n",
            "468/468 [==============================] - 2s 5ms/step - loss: 0.1100 - accuracy: 0.5459 - val_loss: 0.1331 - val_accuracy: 0.4582\n",
            "Epoch 8/10\n",
            "468/468 [==============================] - 3s 5ms/step - loss: 0.1075 - accuracy: 0.5557 - val_loss: 0.1335 - val_accuracy: 0.4596\n",
            "Epoch 9/10\n",
            "468/468 [==============================] - 4s 8ms/step - loss: 0.1055 - accuracy: 0.5630 - val_loss: 0.1341 - val_accuracy: 0.4579\n",
            "Epoch 10/10\n",
            "468/468 [==============================] - 3s 5ms/step - loss: 0.1037 - accuracy: 0.5704 - val_loss: 0.1348 - val_accuracy: 0.4576\n",
            "144/144 [==============================] - 1s 4ms/step - loss: 0.1313 - accuracy: 0.4640\n",
            "Loss:  0.1312526911497116\n",
            "Accuracy:  0.46396005153656006\n"
          ]
        }
      ]
    },
    {
      "cell_type": "code",
      "source": [
        "max_features = 30000\n",
        "vectorize_layer = TextVectorization(\n",
        "    max_tokens=max_features,\n",
        "    output_mode='binary',\n",
        "    pad_to_max_tokens=True)\n",
        "\n",
        "train_ds, val_ds, test_ds = final_sets_plot(raw_train_ds, raw_val_ds, raw_test_ds)"
      ],
      "metadata": {
        "id": "ZDg_wcuT-541"
      },
      "execution_count": 390,
      "outputs": []
    },
    {
      "cell_type": "markdown",
      "source": [
        "**Παράμετροι=600020**, **Είσοδος=30000**, **Έξοδος=20**"
      ],
      "metadata": {
        "id": "7ZYLpxaF_ASj"
      }
    },
    {
      "cell_type": "code",
      "source": [
        "model = tf.keras.Sequential([layers.Dense(20, activation='sigmoid', input_shape=(max_features,))])\n",
        "model.summary()"
      ],
      "metadata": {
        "id": "zAdeAt0I-_Sn",
        "outputId": "ff89de3d-10c8-4f8b-a816-84ecfd0b0a1d",
        "colab": {
          "base_uri": "https://localhost:8080/"
        }
      },
      "execution_count": 391,
      "outputs": [
        {
          "output_type": "stream",
          "name": "stdout",
          "text": [
            "Model: \"sequential_36\"\n",
            "_________________________________________________________________\n",
            " Layer (type)                Output Shape              Param #   \n",
            "=================================================================\n",
            " dense_36 (Dense)            (None, 20)                600020    \n",
            "                                                                 \n",
            "=================================================================\n",
            "Total params: 600,020\n",
            "Trainable params: 600,020\n",
            "Non-trainable params: 0\n",
            "_________________________________________________________________\n"
          ]
        }
      ]
    },
    {
      "cell_type": "markdown",
      "source": [
        "## **Αποτελέσματα 4**\n",
        "Στις **20 εποχές** έχουμε **Accuracy: 0.502** και **Loss: 0.199**\n",
        "\n",
        "Στις **10 εποχές** έχουμε **Accuracy: 0.490** και **Loss: 0.290**\n",
        "\n",
        "Στις **5 εποχές** έχουμε **Accuracy: 0.499** και **Loss: 0.238**\n",
        "\n",
        "Οπότε στις 20 εποχές (που έχουν τρέξει και τα υπόλοιπα) είχαμε το καλύτερο αποτέλεσμα, το οποίο γενικά ίσως θεωρείται χαμηλό σαν accuracy, αλλά είναι σαφώς καλύτερο από τυχαία επιλογή ανάμεσα σε 20 κλάσεις (όπως είπατε)."
      ],
      "metadata": {
        "id": "sKfBRU2N_QY6"
      }
    },
    {
      "cell_type": "code",
      "source": [
        "model.compile(loss=losses.BinaryCrossentropy(),\n",
        "              optimizer=tf.keras.optimizers.Adam(0.001),\n",
        "              metrics=['accuracy'])\n",
        "epochs = 10\n",
        "history = model.fit(\n",
        "    train_ds,\n",
        "    validation_data=val_ds,\n",
        "    epochs=epochs)\n",
        "\n",
        "loss, accuracy = model.evaluate(test_ds)\n",
        "\n",
        "print(\"Loss: \", loss)\n",
        "print(\"Accuracy: \", accuracy)"
      ],
      "metadata": {
        "id": "I_JPg8nE_JM7",
        "outputId": "275a42b0-ebeb-477a-b42a-483721ce8af5",
        "colab": {
          "base_uri": "https://localhost:8080/"
        }
      },
      "execution_count": 396,
      "outputs": [
        {
          "output_type": "stream",
          "name": "stdout",
          "text": [
            "Epoch 1/10\n",
            "468/468 [==============================] - 10s 20ms/step - loss: 0.0094 - accuracy: 0.9874 - val_loss: 0.2492 - val_accuracy: 0.4874\n",
            "Epoch 2/10\n",
            "468/468 [==============================] - 9s 19ms/step - loss: 0.0089 - accuracy: 0.9886 - val_loss: 0.2560 - val_accuracy: 0.4857\n",
            "Epoch 3/10\n",
            "468/468 [==============================] - 8s 17ms/step - loss: 0.0083 - accuracy: 0.9892 - val_loss: 0.2623 - val_accuracy: 0.4854\n",
            "Epoch 4/10\n",
            "468/468 [==============================] - 9s 20ms/step - loss: 0.0078 - accuracy: 0.9900 - val_loss: 0.2682 - val_accuracy: 0.4848\n",
            "Epoch 5/10\n",
            "468/468 [==============================] - 9s 20ms/step - loss: 0.0073 - accuracy: 0.9909 - val_loss: 0.2739 - val_accuracy: 0.4828\n",
            "Epoch 6/10\n",
            "468/468 [==============================] - 8s 17ms/step - loss: 0.0069 - accuracy: 0.9913 - val_loss: 0.2794 - val_accuracy: 0.4802\n",
            "Epoch 7/10\n",
            "468/468 [==============================] - 9s 20ms/step - loss: 0.0065 - accuracy: 0.9916 - val_loss: 0.2847 - val_accuracy: 0.4805\n",
            "Epoch 8/10\n",
            "468/468 [==============================] - 9s 20ms/step - loss: 0.0061 - accuracy: 0.9918 - val_loss: 0.2898 - val_accuracy: 0.4805\n",
            "Epoch 9/10\n",
            "468/468 [==============================] - 9s 20ms/step - loss: 0.0058 - accuracy: 0.9923 - val_loss: 0.2948 - val_accuracy: 0.4787\n",
            "Epoch 10/10\n",
            "468/468 [==============================] - 8s 17ms/step - loss: 0.0055 - accuracy: 0.9927 - val_loss: 0.2997 - val_accuracy: 0.4767\n",
            "144/144 [==============================] - 1s 6ms/step - loss: 0.2906 - accuracy: 0.4900\n",
            "Loss:  0.2906472086906433\n",
            "Accuracy:  0.4900130331516266\n"
          ]
        }
      ]
    },
    {
      "cell_type": "markdown",
      "source": [
        "## **Ενσωματώσεις λέξεων**"
      ],
      "metadata": {
        "id": "ZrvvfFFGHHr_"
      }
    },
    {
      "cell_type": "code",
      "source": [
        "embedding_dim = 16\n",
        "\n",
        "model = tf.keras.Sequential([\n",
        "  layers.Embedding(max_features + 1, embedding_dim),\n",
        "  layers.Dropout(0.2),\n",
        "  layers.GlobalAveragePooling1D(),\n",
        "  layers.Dropout(0.2),\n",
        "  layers.Dense(20)])\n",
        "\n",
        "model.summary()"
      ],
      "metadata": {
        "id": "iWsPtwR3ECXs",
        "outputId": "f9687136-2fec-4042-d969-d8d1156f5767",
        "colab": {
          "base_uri": "https://localhost:8080/"
        }
      },
      "execution_count": 399,
      "outputs": [
        {
          "output_type": "stream",
          "name": "stdout",
          "text": [
            "Model: \"sequential_38\"\n",
            "_________________________________________________________________\n",
            " Layer (type)                Output Shape              Param #   \n",
            "=================================================================\n",
            " embedding_1 (Embedding)     (None, None, 16)          480016    \n",
            "                                                                 \n",
            " dropout_2 (Dropout)         (None, None, 16)          0         \n",
            "                                                                 \n",
            " global_average_pooling1d_1   (None, 16)               0         \n",
            " (GlobalAveragePooling1D)                                        \n",
            "                                                                 \n",
            " dropout_3 (Dropout)         (None, 16)                0         \n",
            "                                                                 \n",
            " dense_38 (Dense)            (None, 20)                340       \n",
            "                                                                 \n",
            "=================================================================\n",
            "Total params: 480,356\n",
            "Trainable params: 480,356\n",
            "Non-trainable params: 0\n",
            "_________________________________________________________________\n"
          ]
        }
      ]
    },
    {
      "cell_type": "code",
      "source": [
        "model.compile(loss=losses.BinaryCrossentropy(from_logits=True),\n",
        "              optimizer='adam',\n",
        "              metrics=tf.metrics.BinaryAccuracy(threshold=0.0))\n",
        "epochs = 5\n",
        "history = model.fit(\n",
        "    train_ds,\n",
        "    validation_data=val_ds,\n",
        "    epochs=epochs)"
      ],
      "metadata": {
        "id": "JMvEn7-bHOkm"
      },
      "execution_count": null,
      "outputs": []
    }
  ]
}