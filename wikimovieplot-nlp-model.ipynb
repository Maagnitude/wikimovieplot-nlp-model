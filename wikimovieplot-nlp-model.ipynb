{
  "nbformat": 4,
  "nbformat_minor": 0,
  "metadata": {
    "colab": {
      "provenance": [],
      "authorship_tag": "ABX9TyPEl0NDslmHCpyUzcX0EImi",
      "include_colab_link": true
    },
    "kernelspec": {
      "name": "python3",
      "display_name": "Python 3"
    },
    "language_info": {
      "name": "python"
    }
  },
  "cells": [
    {
      "cell_type": "markdown",
      "metadata": {
        "id": "view-in-github",
        "colab_type": "text"
      },
      "source": [
        "<a href=\"https://colab.research.google.com/github/Maagnitude/wikimovieplot-nlp-model/blob/main/wikimovieplot-nlp-model.ipynb\" target=\"_parent\"><img src=\"https://colab.research.google.com/assets/colab-badge.svg\" alt=\"Open In Colab\"/></a>"
      ]
    },
    {
      "cell_type": "markdown",
      "source": [
        "# **3η Εργασία** στο μάθημα **Μηχανική Μάθηση και Εφαρμογές**\n",
        "\n",
        "# **Τμήμα Πληροφορικής και Τηλεματικής - Χαροκόπειο Πανεπιστήμιο**\n",
        "\n",
        "# **Καζάζης Γεώργιος - it214124**\n",
        "\n",
        "Στην παρούσα εργασία θα χρησιμοποιήσουμε μεθόδους επεξεργασίας φυσικής γλώσσας."
      ],
      "metadata": {
        "id": "C8kx-GPaYPi3"
      }
    },
    {
      "cell_type": "code",
      "source": [
        "import pandas as pd\n",
        "import numpy as np\n",
        "import os\n",
        "import re\n",
        "import shutil\n",
        "import string\n",
        "\n",
        "import matplotlib.pyplot as plt\n",
        "import seaborn as sns\n",
        "import tensorflow as tf\n",
        "\n",
        "from tensorflow import keras\n",
        "from tensorflow.keras import layers\n",
        "from tensorflow.keras import losses\n",
        "from tensorflow.keras import preprocessing\n",
        "from tensorflow.keras.layers.experimental.preprocessing import TextVectorization\n",
        "\n",
        "from tensorflow.keras.preprocessing.text import Tokenizer\n",
        "from tensorflow.keras.preprocessing.sequence import pad_sequences\n",
        "\n",
        "import nltk\n",
        "from nltk.corpus import stopwords\n",
        "\n",
        "import warnings\n",
        "warnings.filterwarnings(action='ignore')"
      ],
      "metadata": {
        "id": "4P5qV3xhYshF"
      },
      "execution_count": 1,
      "outputs": []
    },
    {
      "cell_type": "markdown",
      "source": [],
      "metadata": {
        "id": "VoalJpu0avWb"
      }
    },
    {
      "cell_type": "code",
      "source": [
        "url = \"https://raw.githubusercontent.com/Maagnitude/wikimovieplot-nlp-model/main/dataset.csv\"\n",
        "# df = pd.read_csv(url)\n",
        "# df = df.sample(frac=1, random_sra)\n",
        "# df.head()\n",
        "\n",
        "# url = \"https://github.com/Maagnitude/wikimovieplot-nlp-model/blob/main/dataset.csv.gz\"\n",
        "# dataset = tf.keras.utils.get_file(\"dataset.csv.gz\", url, untar=True, cache_dir='.', cache_subdir='')\n",
        "# dataset_dir = os.path.join(os.path.dirname(dataset), 'dataset')\n",
        "# os.listdir(dataset_dir)\n",
        "# train_dir = os.path.join(dataset_dir, 'train')\n",
        "# os.listdir(train_dir)\n"
      ],
      "metadata": {
        "id": "CEruND9PauoA"
      },
      "execution_count": 2,
      "outputs": []
    },
    {
      "cell_type": "code",
      "source": [
        "def preprocess_text(text):\n",
        "    text = text.lower() # convert text to lowercase\n",
        "    text = re.sub(r'[^\\w\\s]', '', text) # remove punctuation\n",
        "    text = re.sub(r'\\s+', ' ', text)\n",
        "    return text"
      ],
      "metadata": {
        "id": "nt6skjaysvuh"
      },
      "execution_count": 3,
      "outputs": []
    },
    {
      "cell_type": "code",
      "source": [
        "df = pd.read_csv(url)\n",
        "df = df.sample(frac=1, random_state=42)\n",
        "\n",
        "origin_dummies = pd.get_dummies(df['Origin/Ethnicity'])\n",
        "genre_dummies = pd.get_dummies(df['Genre'])\n",
        "\n",
        "genre_dummies.head()\n",
        "n_labels = genre_dummies.shape[1]\n",
        "\n",
        "df['Title'] = df['Title'].apply(preprocess_text)\n",
        "df['Plot'] = df['Plot'].apply(preprocess_text)\n",
        "\n",
        "df = df.drop('Origin/Ethnicity', axis='columns')\n",
        "df = df.drop('Genre', axis='columns')\n",
        "df = pd.concat([df, origin_dummies, genre_dummies], axis=1)"
      ],
      "metadata": {
        "id": "OvCHW1W3moeE"
      },
      "execution_count": 238,
      "outputs": []
    },
    {
      "cell_type": "code",
      "source": [
        "def load_data_wiki(file_path, batch_size=32, p_train=0.65, p_val=0.15):\n",
        "    \n",
        "    df = pd.read_csv(url)\n",
        "    df = df.sample(frac=1, random_state=42)\n",
        "\n",
        "    n = df.shape[0]\n",
        "    n_train = int(n * p_train)\n",
        "    n_val = int(n * p_val)\n",
        "    n_test = n - n_train - n_val\n",
        "\n",
        "    df_train, df_val, df_test = df.iloc[:n_train], df.iloc[n_train:n_train+n_val],\\\n",
        "                                                          df.iloc[n_train+n_val:]\n",
        "\n",
        "    origin_dummies = pd.get_dummies(df_train['Origin/Ethnicity'])\n",
        "    genre_dummies1 = pd.get_dummies(df_train['Genre'])\n",
        "\n",
        "    n_labels = genre_dummies.shape[1]\n",
        "\n",
        "    origin_dummies = pd.get_dummies(df_val['Origin/Ethnicity'])\n",
        "    genre_dummies2 = pd.get_dummies(df_val['Genre'])\n",
        "\n",
        "    origin_dummies = pd.get_dummies(df_test['Origin/Ethnicity'])\n",
        "    genre_dummies3 = pd.get_dummies(df_test['Genre'])\n",
        "\n",
        "    df['Title'] = df['Title'].apply(preprocess_text)\n",
        "    df['Plot'] = df['Plot'].apply(preprocess_text)\n",
        "\n",
        "    df = df.drop('Origin/Ethnicity', axis='columns')\n",
        "    df = df.drop('Genre', axis='columns')\n",
        "    df = pd.concat([df, origin_dummies, genre_dummies], axis=1)\n",
        "\n",
        "    \n",
        "\n",
        "    \n",
        "                                                          \n",
        "                                    \n",
        "    train_data = {'Title': df_train['Title'].values,\n",
        "                  'Genre': genre_dummies1.values.astype(np.float64)}\n",
        "\n",
        "    val_data = {'Title': df_val['Title'].values,\n",
        "                'Genre': genre_dummies2.values.astype(np.float64)}            \n",
        "\n",
        "    test_data = {'Title': df_test['Title'].values,\n",
        "                 'Genre': genre_dummies3.values.astype(np.float64)}\n",
        "\n",
        "    raw_train_ds = tf.data.Dataset.from_tensor_slices(train_data).batch(batch_size)\n",
        "    raw_val_ds = tf.data.Dataset.from_tensor_slices(val_data).batch(batch_size)\n",
        "    raw_test_ds = tf.data.Dataset.from_tensor_slices(test_data).batch(batch_size)\n",
        "\n",
        "    return raw_train_ds, raw_val_ds, raw_test_ds, n_labels"
      ],
      "metadata": {
        "id": "51196DXOH9PA"
      },
      "execution_count": 244,
      "outputs": []
    },
    {
      "cell_type": "code",
      "source": [
        "raw_train_ds, raw_val_ds, raw_test_ds, n_labels = load_data_wiki(url)"
      ],
      "metadata": {
        "id": "5DpaPDLAJzXM"
      },
      "execution_count": 245,
      "outputs": []
    },
    {
      "cell_type": "code",
      "source": [
        "n_labels"
      ],
      "metadata": {
        "colab": {
          "base_uri": "https://localhost:8080/"
        },
        "id": "hi5K3q1eKiv0",
        "outputId": "1e0ba5e6-eced-4cb7-c78c-7da5e7a5dc7b"
      },
      "execution_count": 54,
      "outputs": [
        {
          "output_type": "execute_result",
          "data": {
            "text/plain": [
              "20"
            ]
          },
          "metadata": {},
          "execution_count": 54
        }
      ]
    },
    {
      "cell_type": "code",
      "source": [
        "for element in raw_train_ds.take(1):\n",
        "  print(element['Genre'][1])"
      ],
      "metadata": {
        "id": "Hwv4KMBdMRie",
        "outputId": "53eac5df-f588-43b6-e384-aabb4b4344ff",
        "colab": {
          "base_uri": "https://localhost:8080/"
        }
      },
      "execution_count": 263,
      "outputs": [
        {
          "output_type": "stream",
          "name": "stdout",
          "text": [
            "tf.Tensor([0. 1. 0. 0. 0. 0. 0. 0. 0. 0. 0. 0. 0. 0. 0. 0. 0. 0. 0. 0.], shape=(20,), dtype=float64)\n"
          ]
        }
      ]
    },
    {
      "cell_type": "code",
      "source": [
        "max_features = 500\n",
        "\n",
        "vectorize_layer = TextVectorization(\n",
        "    max_tokens=max_features,\n",
        "    output_mode='binary')"
      ],
      "metadata": {
        "id": "abj6ztx1rQJS"
      },
      "execution_count": 264,
      "outputs": []
    },
    {
      "cell_type": "code",
      "source": [
        "def vectorize_text(text):\n",
        "  return vectorize_layer(tf.expand_dims(text, -1))"
      ],
      "metadata": {
        "id": "a2BNLFC-Z_EW"
      },
      "execution_count": 265,
      "outputs": []
    },
    {
      "cell_type": "code",
      "source": [
        "train_titles = raw_train_ds.map(lambda x: x['Title'])\n",
        "train_genre = raw_train_ds.map(lambda y: y['Genre'])\n",
        "vectorize_layer.adapt(train_titles, train_genre)"
      ],
      "metadata": {
        "id": "CnGLTietZ44c"
      },
      "execution_count": 266,
      "outputs": []
    },
    {
      "cell_type": "code",
      "source": [
        "val_titles = raw_val_ds.map(lambda x: x['Title'])\n",
        "val_genre = raw_val_ds.map(lambda y: y['Genre'])\n",
        "vectorize_layer.adapt(val_titles, val_genre)"
      ],
      "metadata": {
        "id": "t56Y9SeVeYZf"
      },
      "execution_count": 267,
      "outputs": []
    },
    {
      "cell_type": "code",
      "source": [
        "test_titles = raw_test_ds.map(lambda x: x['Title'])\n",
        "test_genre = raw_test_ds.map(lambda y: y['Genre'])\n",
        "vectorize_layer.adapt(test_titles, test_genre)"
      ],
      "metadata": {
        "id": "YiwFvcH4egEH"
      },
      "execution_count": 268,
      "outputs": []
    },
    {
      "cell_type": "code",
      "source": [
        "train_ds = raw_train_ds.map(lambda x: (vectorize_text(x['Title']), x['Genre']))\n",
        "val_ds = raw_val_ds.map(lambda x: (vectorize_text(x['Title']), x['Genre']))\n",
        "test_ds = raw_test_ds.map(lambda x: (vectorize_text(x['Title']), x['Genre']))"
      ],
      "metadata": {
        "id": "KB9Xthh5ZfPq"
      },
      "execution_count": 269,
      "outputs": []
    },
    {
      "cell_type": "code",
      "source": [
        "train_ds.get_single_element"
      ],
      "metadata": {
        "id": "JG8y0yhqaX3S",
        "outputId": "ec853184-afd3-47f4-c1fa-e5751eb86897",
        "colab": {
          "base_uri": "https://localhost:8080/"
        }
      },
      "execution_count": 261,
      "outputs": [
        {
          "output_type": "execute_result",
          "data": {
            "text/plain": [
              "<bound method DatasetV2.get_single_element of <MapDataset element_spec=(TensorSpec(shape=(None, 500), dtype=tf.float32, name=None), TensorSpec(shape=(None, 20), dtype=tf.float64, name=None))>>"
            ]
          },
          "metadata": {},
          "execution_count": 261
        }
      ]
    },
    {
      "cell_type": "code",
      "source": [
        "model = tf.keras.Sequential([layers.Dense(20, activation='sigmoid', input_shape=(max_features,))])\n",
        "model.summary()"
      ],
      "metadata": {
        "id": "QojWc9OIYnbr",
        "outputId": "95a2484e-8c70-4391-abf6-8cc72b42686a",
        "colab": {
          "base_uri": "https://localhost:8080/"
        }
      },
      "execution_count": 273,
      "outputs": [
        {
          "output_type": "stream",
          "name": "stdout",
          "text": [
            "Model: \"sequential_17\"\n",
            "_________________________________________________________________\n",
            " Layer (type)                Output Shape              Param #   \n",
            "=================================================================\n",
            " dense_17 (Dense)            (None, 20)                10020     \n",
            "                                                                 \n",
            "=================================================================\n",
            "Total params: 10,020\n",
            "Trainable params: 10,020\n",
            "Non-trainable params: 0\n",
            "_________________________________________________________________\n"
          ]
        }
      ]
    },
    {
      "cell_type": "code",
      "source": [
        "model.compile(loss=losses.BinaryCrossentropy(),\n",
        "              optimizer=tf.keras.optimizers.Adam(0.001),\n",
        "              metrics=['accuracy'])\n",
        "epochs = 10\n",
        "history = model.fit(\n",
        "    train_ds,\n",
        "    validation_data=val_ds,\n",
        "    epochs=epochs)\n",
        "\n",
        "loss, accuracy = model.evaluate(test_ds)\n",
        "\n",
        "print(\"Loss: \", loss)\n",
        "print(\"Accuracy: \", accuracy)"
      ],
      "metadata": {
        "id": "2byKIQvmYqnT",
        "outputId": "350a0de7-1329-4b77-800a-e726b8407713",
        "colab": {
          "base_uri": "https://localhost:8080/"
        }
      },
      "execution_count": 275,
      "outputs": [
        {
          "output_type": "stream",
          "name": "stdout",
          "text": [
            "Epoch 1/10\n",
            "468/468 [==============================] - 3s 4ms/step - loss: 0.2894 - accuracy: 0.2814 - val_loss: 0.2381 - val_accuracy: 0.2688\n",
            "Epoch 2/10\n",
            "468/468 [==============================] - 2s 4ms/step - loss: 0.2114 - accuracy: 0.2842 - val_loss: 0.1959 - val_accuracy: 0.2716\n",
            "Epoch 3/10\n",
            "468/468 [==============================] - 2s 4ms/step - loss: 0.1837 - accuracy: 0.2924 - val_loss: 0.1787 - val_accuracy: 0.2777\n",
            "Epoch 4/10\n",
            "468/468 [==============================] - 2s 3ms/step - loss: 0.1712 - accuracy: 0.3013 - val_loss: 0.1704 - val_accuracy: 0.2879\n",
            "Epoch 5/10\n",
            "468/468 [==============================] - 3s 6ms/step - loss: 0.1647 - accuracy: 0.3078 - val_loss: 0.1661 - val_accuracy: 0.2922\n",
            "Epoch 6/10\n",
            "468/468 [==============================] - 2s 3ms/step - loss: 0.1609 - accuracy: 0.3148 - val_loss: 0.1636 - val_accuracy: 0.2948\n",
            "Epoch 7/10\n",
            "468/468 [==============================] - 2s 4ms/step - loss: 0.1585 - accuracy: 0.3219 - val_loss: 0.1620 - val_accuracy: 0.2983\n",
            "Epoch 8/10\n",
            "468/468 [==============================] - 2s 4ms/step - loss: 0.1568 - accuracy: 0.3273 - val_loss: 0.1610 - val_accuracy: 0.2977\n",
            "Epoch 9/10\n",
            "468/468 [==============================] - 2s 3ms/step - loss: 0.1555 - accuracy: 0.3296 - val_loss: 0.1603 - val_accuracy: 0.3006\n",
            "Epoch 10/10\n",
            "468/468 [==============================] - 2s 5ms/step - loss: 0.1544 - accuracy: 0.3328 - val_loss: 0.1598 - val_accuracy: 0.2986\n",
            "144/144 [==============================] - 0s 2ms/step - loss: 0.1591 - accuracy: 0.3066\n",
            "Loss:  0.1590878814458847\n",
            "Accuracy:  0.30655667185783386\n"
          ]
        }
      ]
    }
  ]
}